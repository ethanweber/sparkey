{
 "cells": [
  {
   "cell_type": "code",
   "execution_count": 1,
   "metadata": {},
   "outputs": [],
   "source": [
    "%load_ext autoreload\n",
    "%autoreload 2\n",
    "\n",
    "import pickle\n",
    "import numpy as np\n",
    "import tensorflow as tf\n",
    "import matplotlib.pyplot as plt\n",
    "%matplotlib inline\n",
    "\n",
    "import sys\n",
    "sys.path.append(\"../\")\n",
    "from read_tfrecords import OccnetTfrecordLoader\n",
    "from models.research.keypointnet.main import Transformer, meshgrid\n",
    "# from models.research.keypointnet.main import "
   ]
  },
  {
   "cell_type": "code",
   "execution_count": 2,
   "metadata": {},
   "outputs": [],
   "source": [
    "import cv2\n",
    "import math"
   ]
  },
  {
   "cell_type": "code",
   "execution_count": 3,
   "metadata": {},
   "outputs": [],
   "source": [
    "sess = tf.Session()"
   ]
  },
  {
   "cell_type": "code",
   "execution_count": 4,
   "metadata": {},
   "outputs": [],
   "source": [
    "vw, vh = 128, 128"
   ]
  },
  {
   "cell_type": "code",
   "execution_count": 5,
   "metadata": {
    "scrolled": true
   },
   "outputs": [
    {
     "name": "stdout",
     "output_type": "stream",
     "text": [
      "WARNING:tensorflow:From ../read_tfrecords.py:55: to_float (from tensorflow.python.ops.math_ops) is deprecated and will be removed in a future version.\n",
      "Instructions for updating:\n",
      "Use tf.cast instead.\n",
      "WARNING:tensorflow:From ../read_tfrecords.py:55: div (from tensorflow.python.ops.math_ops) is deprecated and will be removed in a future version.\n",
      "Instructions for updating:\n",
      "Deprecated in favor of operator or tf.math.divide.\n"
     ]
    }
   ],
   "source": [
    "occnet_dataloader = OccnetTfrecordLoader(\"../datasets/00005/\", occnet_data=True)\n",
    "occnet_transformer = Transformer(128, 128, \"../datasets/00005/\", occnet=True)\n",
    "occnet_features = occnet_dataloader.get_features()\n",
    "# features = sess.run(features)"
   ]
  },
  {
   "cell_type": "code",
   "execution_count": 6,
   "metadata": {},
   "outputs": [
    {
     "data": {
      "text/plain": [
       "dict_keys(['img0', 'img0_depth', 'img0_mask', 'img1', 'img1_depth', 'img1_mask', 'mv0', 'mv1', 'mvi0', 'mvi1', 'img0_png', 'img1_png', 'lr0', 'lr1'])"
      ]
     },
     "execution_count": 6,
     "metadata": {},
     "output_type": "execute_result"
    }
   ],
   "source": [
    "occnet_features.keys()"
   ]
  },
  {
   "cell_type": "code",
   "execution_count": 33,
   "metadata": {},
   "outputs": [],
   "source": [
    "images = occnet_features[\"img0\"]\n"
   ]
  },
  {
   "cell_type": "code",
   "execution_count": null,
   "metadata": {},
   "outputs": [],
   "source": []
  },
  {
   "cell_type": "code",
   "execution_count": 8,
   "metadata": {},
   "outputs": [],
   "source": [
    "alpha = sess.run(images)"
   ]
  },
  {
   "cell_type": "code",
   "execution_count": 9,
   "metadata": {},
   "outputs": [],
   "source": [
    "a = alpha[0, :, :, :3]"
   ]
  },
  {
   "cell_type": "code",
   "execution_count": 34,
   "metadata": {},
   "outputs": [],
   "source": [
    "images = occnet_features[\"img0\"]\n",
    "\n",
    "# mask = alpha[0, :, :, 3]\n",
    "mask =images[:,:,:,3]\n",
    "mask = tf.cast(tf.greater(mask, tf.zeros_like(mask)), dtype=tf.float32)\n",
    "\n",
    "\n",
    "alpha, result = sess.run([images, mask])"
   ]
  },
  {
   "cell_type": "code",
   "execution_count": 35,
   "metadata": {},
   "outputs": [
    {
     "data": {
      "text/plain": [
       "<matplotlib.image.AxesImage at 0x7f2ffc198128>"
      ]
     },
     "execution_count": 35,
     "metadata": {},
     "output_type": "execute_result"
    },
    {
     "data": {
      "image/png": "[encoded data removed]",
      "text/plain": [
       "<Figure size 432x288 with 1 Axes>"
      ]
     },
     "metadata": {
      "needs_background": "light"
     },
     "output_type": "display_data"
    }
   ],
   "source": [
    "plt.imshow(alpha[0,:,:,:3])"
   ]
  },
  {
   "cell_type": "code",
   "execution_count": 36,
   "metadata": {},
   "outputs": [
    {
     "data": {
      "text/plain": [
       "<matplotlib.image.AxesImage at 0x7f2ffc0f36a0>"
      ]
     },
     "execution_count": 36,
     "metadata": {},
     "output_type": "execute_result"
    },
    {
     "data": {
      "image/png": "[encoded data removed]",
      "text/plain": [
       "<Figure size 432x288 with 1 Axes>"
      ]
     },
     "metadata": {
      "needs_background": "light"
     },
     "output_type": "display_data"
    }
   ],
   "source": [
    "plt.imshow(result[0])"
   ]
  },
  {
   "cell_type": "code",
   "execution_count": 23,
   "metadata": {},
   "outputs": [],
   "source": []
  },
  {
   "cell_type": "code",
   "execution_count": 31,
   "metadata": {},
   "outputs": [
    {
     "data": {
      "text/plain": [
       "(1, 128, 128)"
      ]
     },
     "execution_count": 31,
     "metadata": {},
     "output_type": "execute_result"
    }
   ],
   "source": [
    "result.shape"
   ]
  },
  {
   "cell_type": "code",
   "execution_count": 28,
   "metadata": {},
   "outputs": [],
   "source": [
    "b = a[:,:,:1].copy()"
   ]
  },
  {
   "cell_type": "code",
   "execution_count": 30,
   "metadata": {},
   "outputs": [
    {
     "data": {
      "text/plain": [
       "(128, 128, 1)"
      ]
     },
     "execution_count": 30,
     "metadata": {},
     "output_type": "execute_result"
    }
   ],
   "source": [
    "b.shape"
   ]
  },
  {
   "cell_type": "code",
   "execution_count": 26,
   "metadata": {},
   "outputs": [
    {
     "data": {
      "text/plain": [
       "(128, 128, 3)"
      ]
     },
     "execution_count": 26,
     "metadata": {},
     "output_type": "execute_result"
    }
   ],
   "source": [
    "a.shape"
   ]
  },
  {
   "cell_type": "code",
   "execution_count": 32,
   "metadata": {},
   "outputs": [
    {
     "data": {
      "text/plain": [
       "(128, 128, 4)"
      ]
     },
     "execution_count": 32,
     "metadata": {},
     "output_type": "execute_result"
    }
   ],
   "source": [
    "np.concatenate((a, b), axis=2).shape"
   ]
  },
  {
   "cell_type": "code",
   "execution_count": 19,
   "metadata": {},
   "outputs": [
    {
     "data": {
      "text/plain": [
       "1.0"
      ]
     },
     "execution_count": 19,
     "metadata": {},
     "output_type": "execute_result"
    }
   ],
   "source": [
    "for i in alpha"
   ]
  },
  {
   "cell_type": "code",
   "execution_count": 17,
   "metadata": {},
   "outputs": [
    {
     "data": {
      "text/plain": [
       "<matplotlib.image.AxesImage at 0x7f35106ed630>"
      ]
     },
     "execution_count": 17,
     "metadata": {},
     "output_type": "execute_result"
    },
    {
     "data": {
      "image/png": "[encoded data removed]",
      "text/plain": [
       "<Figure size 432x288 with 1 Axes>"
      ]
     },
     "metadata": {
      "needs_background": "light"
     },
     "output_type": "display_data"
    }
   ],
   "source": [
    "plt.imshow(alpha)"
   ]
  },
  {
   "cell_type": "code",
   "execution_count": null,
   "metadata": {},
   "outputs": [],
   "source": []
  },
  {
   "cell_type": "code",
   "execution_count": 7,
   "metadata": {
    "scrolled": false
   },
   "outputs": [
    {
     "data": {
      "text/plain": [
       "[array([[0.84946895]], dtype=float32),\n",
       " array([[ 0.84946895, -0.527144  , -0.0228397 , -0.60645175, -0.22305553,\n",
       "         -0.31954196, -0.9209447 ,  0.20278333,  0.47817227,  0.7874085 ,\n",
       "         -0.38902336,  0.3866775 ,  0.        ,  0.        ,  0.        ,\n",
       "          1.        ]], dtype=float32)]"
      ]
     },
     "execution_count": 7,
     "metadata": {},
     "output_type": "execute_result"
    }
   ],
   "source": [
    "sess.run([occnet_features[\"lr0\"], occnet_features[\"mv0\"]])"
   ]
  },
  {
   "cell_type": "code",
   "execution_count": null,
   "metadata": {},
   "outputs": [],
   "source": [
    "mask = rgba[:, :, :, 3]\n",
    "mask = tf.cast(tf.greater(mask, tf.zeros_like(mask)), dtype=tf.float32)"
   ]
  },
  {
   "cell_type": "code",
   "execution_count": 1,
   "metadata": {},
   "outputs": [
    {
     "ename": "NameError",
     "evalue": "name 'occnet_features' is not defined",
     "output_type": "error",
     "traceback": [
      "\u001b[0;31m---------------------------------------------------------------------------\u001b[0m",
      "\u001b[0;31mNameError\u001b[0m                                 Traceback (most recent call last)",
      "\u001b[0;32m<ipython-input-1-0efe1a34bb90>\u001b[0m in \u001b[0;36m<module>\u001b[0;34m\u001b[0m\n\u001b[0;32m----> 1\u001b[0;31m \u001b[0mimages\u001b[0m \u001b[0;34m=\u001b[0m \u001b[0moccnet_features\u001b[0m\u001b[0;34m[\u001b[0m\u001b[0;34m\"img0\"\u001b[0m\u001b[0;34m]\u001b[0m\u001b[0;34m[\u001b[0m\u001b[0;34m:\u001b[0m\u001b[0;36m1\u001b[0m\u001b[0;34m,\u001b[0m\u001b[0;34m:\u001b[0m\u001b[0;34m,\u001b[0m\u001b[0;34m:\u001b[0m\u001b[0;34m,\u001b[0m\u001b[0;34m:\u001b[0m\u001b[0;36m3\u001b[0m\u001b[0;34m]\u001b[0m\u001b[0;34m\u001b[0m\u001b[0;34m\u001b[0m\u001b[0m\n\u001b[0m\u001b[1;32m      2\u001b[0m \u001b[0;34m\u001b[0m\u001b[0m\n\u001b[1;32m      3\u001b[0m \u001b[0;31m# [batch, 1]\u001b[0m\u001b[0;34m\u001b[0m\u001b[0;34m\u001b[0m\u001b[0;34m\u001b[0m\u001b[0m\n\u001b[1;32m      4\u001b[0m \u001b[0mlr_estimated\u001b[0m \u001b[0;34m=\u001b[0m \u001b[0mtf\u001b[0m\u001b[0;34m.\u001b[0m\u001b[0mconstant\u001b[0m\u001b[0;34m(\u001b[0m\u001b[0;34m[\u001b[0m\u001b[0;36m0.0\u001b[0m\u001b[0;34m]\u001b[0m\u001b[0;34m)\u001b[0m\u001b[0;34m\u001b[0m\u001b[0;34m\u001b[0m\u001b[0m\n\u001b[1;32m      5\u001b[0m \u001b[0;34m\u001b[0m\u001b[0m\n",
      "\u001b[0;31mNameError\u001b[0m: name 'occnet_features' is not defined"
     ]
    }
   ],
   "source": [
    "images = occnet_features[\"img0\"][:1,:,:,:3]\n",
    "\n",
    "# [batch, 1]\n",
    "lr_estimated = tf.constant([0.0])\n",
    "\n",
    "lr = lr_estimated\n",
    "lr = tf.expand_dims(lr, 0)\n",
    "# # if lr_gt is None:\n",
    "# #   lr = lr_estimated\n",
    "# # else:\n",
    "# #   lr_gt = tf.maximum(0.0, tf.sign(lr_gt[:, :1]))\n",
    "# #   lr = tf.round(lr_gt * anneal + lr_estimated * (1 - anneal))\n",
    "\n",
    "lrtiled = tf.tile(\n",
    "  tf.expand_dims(tf.expand_dims(lr, 1), 1),\n",
    "  [1, images.shape[1], images.shape[2], 1])\n",
    "\n",
    "images = tf.concat([images, lrtiled], axis=3)"
   ]
  },
  {
   "cell_type": "code",
   "execution_count": 9,
   "metadata": {},
   "outputs": [],
   "source": [
    "import tensorflow.contrib.slim as slim"
   ]
  },
  {
   "cell_type": "code",
   "execution_count": 10,
   "metadata": {},
   "outputs": [
    {
     "name": "stdout",
     "output_type": "stream",
     "text": [
      "WARNING:tensorflow:From /home/ethanweber/anaconda3/envs/occnet/lib/python3.7/site-packages/tensorflow/python/framework/op_def_library.py:263: colocate_with (from tensorflow.python.framework.ops) is deprecated and will be removed in a future version.\n",
      "Instructions for updating:\n",
      "Colocations handled automatically by placer.\n"
     ]
    }
   ],
   "source": [
    "with slim.arg_scope(\n",
    "      [slim.conv2d, slim.fully_connected],\n",
    "      normalizer_fn=slim.batch_norm,\n",
    "      activation_fn=lambda x: tf.nn.leaky_relu(x, alpha=0.1),\n",
    "      normalizer_params={\"is_training\": True}):\n",
    "    for i, r in enumerate([1, 1, 2, 4, 8, 16, 1, 2, 4, 8, 16, 1]):\n",
    "      net = slim.conv2d(images, 64, [3, 3], rate=r, scope=\"dconv%d\" % i)"
   ]
  },
  {
   "cell_type": "code",
   "execution_count": 11,
   "metadata": {},
   "outputs": [],
   "source": [
    "prob = slim.conv2d(\n",
    "      net, 10, [3, 3], rate=1, scope=\"conv_xy\", activation_fn=None)"
   ]
  },
  {
   "cell_type": "code",
   "execution_count": 12,
   "metadata": {},
   "outputs": [
    {
     "name": "stdout",
     "output_type": "stream",
     "text": [
      "(1, 128, 128, 64)\n",
      "(1, 128, 128, 10)\n"
     ]
    }
   ],
   "source": [
    "sess.run(tf.global_variables_initializer())\n",
    "sess.run(tf.local_variables_initializer())\n",
    "print(sess.run(net).shape)\n",
    "print(sess.run(prob).shape)"
   ]
  },
  {
   "cell_type": "code",
   "execution_count": 13,
   "metadata": {},
   "outputs": [],
   "source": [
    "prob = tf.transpose(prob, [0, 3, 1, 2])"
   ]
  },
  {
   "cell_type": "code",
   "execution_count": 38,
   "metadata": {},
   "outputs": [],
   "source": [
    "ranx, rany = meshgrid(128)"
   ]
  },
  {
   "cell_type": "code",
   "execution_count": 47,
   "metadata": {},
   "outputs": [
    {
     "data": {
      "text/plain": [
       "TensorShape([Dimension(128), Dimension(128)])"
      ]
     },
     "execution_count": 47,
     "metadata": {},
     "output_type": "execute_result"
    }
   ],
   "source": [
    "ranx.shape"
   ]
  },
  {
   "cell_type": "code",
   "execution_count": 46,
   "metadata": {},
   "outputs": [],
   "source": [
    "sx = tf.reduce_sum(prob * ranx, axis=[2, 3])"
   ]
  },
  {
   "cell_type": "code",
   "execution_count": 45,
   "metadata": {},
   "outputs": [
    {
     "data": {
      "text/plain": [
       "(1, 10, 128, 128)"
      ]
     },
     "execution_count": 45,
     "metadata": {},
     "output_type": "execute_result"
    }
   ],
   "source": [
    "sess.run(prob).shape"
   ]
  },
  {
   "cell_type": "code",
   "execution_count": 42,
   "metadata": {},
   "outputs": [
    {
     "data": {
      "text/plain": [
       "array([[ -417.97763, -1072.014  , -2482.569  , -3290.79   ,  1760.5096 ,\n",
       "         -885.30774,   961.31836,   181.70825, -1243.397  ,   586.7436 ]],\n",
       "      dtype=float32)"
      ]
     },
     "execution_count": 42,
     "metadata": {},
     "output_type": "execute_result"
    }
   ],
   "source": [
    "sess.run(sx)"
   ]
  },
  {
   "cell_type": "code",
   "execution_count": 14,
   "metadata": {},
   "outputs": [
    {
     "name": "stdout",
     "output_type": "stream",
     "text": [
      "(1, 10, 128, 128)\n"
     ]
    }
   ],
   "source": [
    "print(sess.run(prob).shape)"
   ]
  },
  {
   "cell_type": "code",
   "execution_count": 53,
   "metadata": {},
   "outputs": [
    {
     "data": {
      "text/plain": [
       "array([-0.9921875, -0.9765625, -0.9609375, -0.9453125, -0.9296875,\n",
       "       -0.9140625, -0.8984375, -0.8828125, -0.8671875, -0.8515625,\n",
       "       -0.8359375, -0.8203125, -0.8046875, -0.7890625, -0.7734375,\n",
       "       -0.7578125, -0.7421875, -0.7265625, -0.7109375, -0.6953125,\n",
       "       -0.6796875, -0.6640625, -0.6484375, -0.6328125, -0.6171875,\n",
       "       -0.6015625, -0.5859375, -0.5703125, -0.5546875, -0.5390625,\n",
       "       -0.5234375, -0.5078125, -0.4921875, -0.4765625, -0.4609375,\n",
       "       -0.4453125, -0.4296875, -0.4140625, -0.3984375, -0.3828125,\n",
       "       -0.3671875, -0.3515625, -0.3359375, -0.3203125, -0.3046875,\n",
       "       -0.2890625, -0.2734375, -0.2578125, -0.2421875, -0.2265625,\n",
       "       -0.2109375, -0.1953125, -0.1796875, -0.1640625, -0.1484375,\n",
       "       -0.1328125, -0.1171875, -0.1015625, -0.0859375, -0.0703125,\n",
       "       -0.0546875, -0.0390625, -0.0234375, -0.0078125,  0.0078125,\n",
       "        0.0234375,  0.0390625,  0.0546875,  0.0703125,  0.0859375,\n",
       "        0.1015625,  0.1171875,  0.1328125,  0.1484375,  0.1640625,\n",
       "        0.1796875,  0.1953125,  0.2109375,  0.2265625,  0.2421875,\n",
       "        0.2578125,  0.2734375,  0.2890625,  0.3046875,  0.3203125,\n",
       "        0.3359375,  0.3515625,  0.3671875,  0.3828125,  0.3984375,\n",
       "        0.4140625,  0.4296875,  0.4453125,  0.4609375,  0.4765625,\n",
       "        0.4921875,  0.5078125,  0.5234375,  0.5390625,  0.5546875,\n",
       "        0.5703125,  0.5859375,  0.6015625,  0.6171875,  0.6328125,\n",
       "        0.6484375,  0.6640625,  0.6796875,  0.6953125,  0.7109375,\n",
       "        0.7265625,  0.7421875,  0.7578125,  0.7734375,  0.7890625,\n",
       "        0.8046875,  0.8203125,  0.8359375,  0.8515625,  0.8671875,\n",
       "        0.8828125,  0.8984375,  0.9140625,  0.9296875,  0.9453125,\n",
       "        0.9609375,  0.9765625,  0.9921875], dtype=float32)"
      ]
     },
     "execution_count": 53,
     "metadata": {},
     "output_type": "execute_result"
    }
   ],
   "source": [
    "sess.run(meshgrid(128)[0][3])"
   ]
  },
  {
   "cell_type": "code",
   "execution_count": null,
   "metadata": {},
   "outputs": [],
   "source": []
  },
  {
   "cell_type": "code",
   "execution_count": 28,
   "metadata": {
    "scrolled": false
   },
   "outputs": [
    {
     "name": "stderr",
     "output_type": "stream",
     "text": [
      "Clipping input data to the valid range for imshow with RGB data ([0..1] for floats or [0..255] for integers).\n"
     ]
    },
    {
     "data": {
      "image/png": "[encoded data removed]",
      "text/plain": [
       "<Figure size 432x288 with 1 Axes>"
      ]
     },
     "metadata": {
      "needs_background": "light"
     },
     "output_type": "display_data"
    },
    {
     "name": "stderr",
     "output_type": "stream",
     "text": [
      "Clipping input data to the valid range for imshow with RGB data ([0..1] for floats or [0..255] for integers).\n"
     ]
    },
    {
     "data": {
      "image/png": "[encoded data removed]",
      "text/plain": [
       "<Figure size 432x288 with 1 Axes>"
      ]
     },
     "metadata": {
      "needs_background": "light"
     },
     "output_type": "display_data"
    }
   ],
   "source": [
    "def func1(x):\n",
    "    return tf.transpose(tf.reshape(occnet_features[x], [-1, 4, 4]), [0, 2, 1])\n",
    "\n",
    "mv = [func1(\"mv%d\" % i) for i in range(2)]\n",
    "mvi = [func1(\"mvi%d\" % i) for i in range(2)]\n",
    "img0_depth = tf.reshape(occnet_features[\"img0_depth\"], [-1, 480, 640])\n",
    "\n",
    "u, v = 0.0, 0.0\n",
    "points = []\n",
    "for z in np.linspace(-0.5, 0.5, num=100):\n",
    "    z_value = (img0_depth[0, 240, 320] / 1000.0) + z\n",
    "    points.append([u, v, z_value])\n",
    "\n",
    "# add back batch dimension\n",
    "uvz = tf.expand_dims(tf.convert_to_tensor(points), axis=0)\n",
    "\n",
    "world_coords = tf.matmul(occnet_transformer.unproject(uvz), mvi[0])\n",
    "uvz_proj = occnet_transformer.project(tf.matmul(world_coords, mv[1 - 0]))\n",
    "\n",
    "uvz, uvz_proj, img0, img1, img0_depth = sess.run(\n",
    "    [\n",
    "        uvz,\n",
    "        uvz_proj,\n",
    "        occnet_features[\"img0\"][0, :, :, :3],\n",
    "        occnet_features[\"img1\"][0, :, :, :3],\n",
    "        img0_depth\n",
    "    ]\n",
    ")\n",
    "\n",
    "# draw on the image\n",
    "x = int((u + 1.0) * 64.0)\n",
    "y = int((v + 1.0) * 64.0)\n",
    "new_img0 = cv2.circle(img0.copy(), (x, y), 3, (0, 255, 0), -1)\n",
    "plt.imshow(new_img0)\n",
    "plt.show()\n",
    "\n",
    "new_img1 = img1.copy()\n",
    "for index, point in enumerate(uvz_proj[0]):\n",
    "#     print(index)\n",
    "#     print(point)\n",
    "    try:\n",
    "        u, v, z = point\n",
    "        \n",
    "#         x = int((u + 1.0) * 64.0)\n",
    "#         y = 128 - int((v + 1.0) * 64.0)\n",
    "        \n",
    "        x = (min(max(u, -1), 1) * vw / 2 + vw / 2) - 0.5\n",
    "        y = vh - 0.5 - (min(max(v, -1), 1) * vh / 2 + vh / 2)\n",
    "        if math.isnan(x) or math.isnan(y):\n",
    "            pass\n",
    "\n",
    "        x = int(round(x))\n",
    "        y = int(round(y))\n",
    "\n",
    "        new_img1 = cv2.circle(new_img1, (x, y), 3, (0, 255, 0), -1)\n",
    "    except:\n",
    "        pass\n",
    "\n",
    "plt.imshow(new_img1)\n",
    "plt.show()\n",
    "\n",
    "# plt.imshow(img0_depth[0])\n",
    "# plt.show()\n"
   ]
  },
  {
   "cell_type": "code",
   "execution_count": 14,
   "metadata": {},
   "outputs": [],
   "source": [
    "keypointnet_dataloader = OccnetTfrecordLoader(\"../../data/cars_with_keypoints/\", occnet_data=False)\n",
    "keypointnet_transformer = Transformer(128, 128, \"../../data/cars_with_keypoints/\", occnet=False)\n",
    "keypointnet_features = keypointnet_dataloader.get_features()\n",
    "# keypointnet_features = sess.run(keypointnet_features)"
   ]
  },
  {
   "cell_type": "code",
   "execution_count": 30,
   "metadata": {},
   "outputs": [
    {
     "name": "stderr",
     "output_type": "stream",
     "text": [
      "Clipping input data to the valid range for imshow with RGB data ([0..1] for floats or [0..255] for integers).\n"
     ]
    },
    {
     "data": {
      "image/png": "[encoded data removed]",
      "text/plain": [
       "<Figure size 432x288 with 1 Axes>"
      ]
     },
     "metadata": {
      "needs_background": "light"
     },
     "output_type": "display_data"
    },
    {
     "name": "stderr",
     "output_type": "stream",
     "text": [
      "Clipping input data to the valid range for imshow with RGB data ([0..1] for floats or [0..255] for integers).\n"
     ]
    },
    {
     "data": {
      "image/png": "[encoded data removed]",
      "text/plain": [
       "<Figure size 432x288 with 1 Axes>"
      ]
     },
     "metadata": {
      "needs_background": "light"
     },
     "output_type": "display_data"
    }
   ],
   "source": [
    "def func1(x):\n",
    "    return tf.transpose(tf.reshape(keypointnet_features[x], [-1, 4, 4]), [0, 2, 1])\n",
    "\n",
    "mv = [func1(\"mv%d\" % i) for i in range(2)]\n",
    "mvi = [func1(\"mvi%d\" % i) for i in range(2)]\n",
    "\n",
    "u, v = 0.0, 0.0\n",
    "points = []\n",
    "for z in np.linspace(-50.0, 0.0, num=200):\n",
    "    points.append([u, v, z])\n",
    "    \n",
    "uvz = tf.constant([points])\n",
    "\n",
    "world_coords = tf.matmul(keypointnet_transformer.unproject(uvz), mvi[0])\n",
    "uvz_proj = keypointnet_transformer.project(tf.matmul(world_coords, mv[1 - 0]))\n",
    "\n",
    "uvz, uvz_proj, img0, img1 = sess.run(\n",
    "    [\n",
    "        uvz,\n",
    "        uvz_proj,\n",
    "        keypointnet_features[\"img0\"][0, :, :, :3],\n",
    "        keypointnet_features[\"img1\"][0, :, :, :3]\n",
    "    ]\n",
    ")\n",
    "\n",
    "# draw on the image\n",
    "x = int((u + 1.0) * 64.0)\n",
    "y = int((v + 1.0) * 64.0)\n",
    "new_img0 = cv2.circle(img0.copy(), (x, y), 3, (0, 255, 0), -1)\n",
    "plt.imshow(new_img0)\n",
    "plt.show()\n",
    "\n",
    "new_img1 = img1.copy()\n",
    "for index, point in enumerate(uvz_proj[0]):\n",
    "#     print(index)\n",
    "#     print(point)\n",
    "\n",
    "    u, v, z = point\n",
    "    # ---\n",
    "#     x = int((u + 1.0) * 64.0)\n",
    "#     y = 128 - int((v + 1.0) * 64.0)\n",
    "    # OR\n",
    "    x = (min(max(u, -1), 1) * vw / 2 + vw / 2) - 0.5\n",
    "    y = vh - 0.5 - (min(max(v, -1), 1) * vh / 2 + vh / 2)\n",
    "    x = int(round(x))\n",
    "    y = int(round(y))\n",
    "    \n",
    "    new_img1 = cv2.circle(new_img1, (x, y), 3, (0, 255, 0), -1)\n",
    "\n",
    "plt.imshow(new_img1)\n",
    "plt.show()\n"
   ]
  },
  {
   "cell_type": "code",
   "execution_count": null,
   "metadata": {},
   "outputs": [],
   "source": []
  }
 ],
 "metadata": {
  "kernelspec": {
   "display_name": "occnet",
   "language": "python",
   "name": "occnet"
  },
  "language_info": {
   "codemirror_mode": {
    "name": "ipython",
    "version": 3
   },
   "file_extension": ".py",
   "mimetype": "text/x-python",
   "name": "python",
   "nbconvert_exporter": "python",
   "pygments_lexer": "ipython3",
   "version": "3.7.2"
  }
 },
 "nbformat": 4,
 "nbformat_minor": 2
}
