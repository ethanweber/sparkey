{
 "cells": [
  {
   "cell_type": "markdown",
   "metadata": {},
   "source": [
    "this notebook is to test the synthetic occlusion loss methods"
   ]
  },
  {
   "cell_type": "code",
   "execution_count": 1,
   "metadata": {},
   "outputs": [],
   "source": [
    "%load_ext autoreload\n",
    "%autoreload 2\n",
    "\n",
    "import pickle\n",
    "import numpy as np\n",
    "import tensorflow as tf\n",
    "import random\n",
    "import cv2\n",
    "import math\n",
    "import matplotlib.pyplot as plt\n",
    "%matplotlib inline\n",
    "\n",
    "import sys\n",
    "sys.path.append(\"../\")\n",
    "from data.occnet_data_loader import OccnetTfrecordLoader\n",
    "from network.main import Transformer"
   ]
  },
  {
   "cell_type": "code",
   "execution_count": 2,
   "metadata": {},
   "outputs": [],
   "source": [
    "sess = tf.Session()"
   ]
  },
  {
   "cell_type": "code",
   "execution_count": 3,
   "metadata": {},
   "outputs": [],
   "source": [
    "vw, vh = 128, 128 # width, height"
   ]
  },
  {
   "cell_type": "code",
   "execution_count": 4,
   "metadata": {},
   "outputs": [],
   "source": [
    "OCCNET_DATASET_PATH = \"../datasets/400/\""
   ]
  },
  {
   "cell_type": "code",
   "execution_count": 5,
   "metadata": {},
   "outputs": [
    {
     "name": "stdout",
     "output_type": "stream",
     "text": [
      "WARNING:tensorflow:From ../data/occnet_data_loader.py:68: to_float (from tensorflow.python.ops.math_ops) is deprecated and will be removed in a future version.\n",
      "Instructions for updating:\n",
      "Use tf.cast instead.\n",
      "WARNING:tensorflow:From ../data/occnet_data_loader.py:68: div (from tensorflow.python.ops.math_ops) is deprecated and will be removed in a future version.\n",
      "Instructions for updating:\n",
      "Deprecated in favor of operator or tf.math.divide.\n"
     ]
    }
   ],
   "source": [
    "occnet_dataloader = OccnetTfrecordLoader(OCCNET_DATASET_PATH, occnet_data=True)\n",
    "occnet_transformer = Transformer(128, 128, OCCNET_DATASET_PATH, occnet=True)\n",
    "occnet_features = occnet_dataloader.get_features()"
   ]
  },
  {
   "cell_type": "code",
   "execution_count": 6,
   "metadata": {},
   "outputs": [],
   "source": [
    "images = occnet_features['img0_png']\n",
    "mask = images[:, :, :, 3]\n",
    "mask = tf.cast(tf.greater(mask, tf.zeros_like(mask)), dtype=tf.float32)"
   ]
  },
  {
   "cell_type": "code",
   "execution_count": 25,
   "metadata": {},
   "outputs": [],
   "source": [
    "def get_box_from_mask(mask):\n",
    "    # returns the bounding given a mask\n",
    "    rows = np.any(mask, axis=1)\n",
    "    cols = np.any(mask, axis=0)\n",
    "    ymin, ymax = np.where(rows)[0][[0, -1]]\n",
    "    xmin, xmax = np.where(cols)[0][[0, -1]]\n",
    "    x, y, w, h = int(xmin), int(ymin), int(xmax-xmin), int(ymax-ymin)\n",
    "    box = [x,y,w,h]\n",
    "    return box\n",
    "\n",
    "def get_box_pieces(box, num_cols=2, num_rows=2):\n",
    "    # returns array of bounding boxes\n",
    "    num_cols = 2\n",
    "    num_rows = 2\n",
    "    x,y,w,h = box\n",
    "    x_vals = np.linspace(x,x+w, num_cols + 1)\n",
    "    col_size = w // num_cols\n",
    "    y_vals = np.linspace(y,y+h, num_rows + 1)\n",
    "    row_size = h // num_rows\n",
    "    \n",
    "    boxes = []\n",
    "    for c in x_vals[:-1]:\n",
    "        for r in y_vals[:-1]:\n",
    "            current_box = [int(c), int(r), int(col_size), int(row_size)]\n",
    "            boxes.append(current_box)\n",
    "        \n",
    "    return boxes\n",
    "\n",
    "def get_numpy_mask_from_box(box):\n",
    "    mask = np.zeros((128,128))\n",
    "    x,y,w,h = box\n",
    "    mask[y:y+h,x:x+w] = 1\n",
    "    mask = 1 - mask\n",
    "    return mask.astype(\"uint8\")\n",
    "\n",
    "def occlusion_loss(images, mask, loss_occ=0.0):\n",
    "    new_images = images.copy()\n",
    "    for i in range(len(images)):\n",
    "        # with some probability, we will not use an occlusion\n",
    "        if random.uniform(0, 1) >= loss_occ:\n",
    "            pass\n",
    "        else:\n",
    "            box = get_box_from_mask(mask[i])\n",
    "            boxes = get_box_pieces(box)\n",
    "            box_index = random.randint(0, len(boxes)-1)\n",
    "            used_mask = get_numpy_mask_from_box(boxes[box_index])\n",
    "            new_images[i][:,:,0] *= used_mask\n",
    "            new_images[i][:,:,1] *= used_mask\n",
    "            new_images[i][:,:,2] *= used_mask\n",
    "    return new_images.astype(\"float32\")"
   ]
  },
  {
   "cell_type": "code",
   "execution_count": 26,
   "metadata": {},
   "outputs": [],
   "source": [
    "masked_images = tf.py_func(occlusion_loss, [images, mask, 1.0], tf.float32)"
   ]
  },
  {
   "cell_type": "code",
   "execution_count": 27,
   "metadata": {},
   "outputs": [],
   "source": [
    "masked_images.set_shape([None, 128, 128, 3])"
   ]
  },
  {
   "cell_type": "code",
   "execution_count": 34,
   "metadata": {
    "scrolled": false
   },
   "outputs": [
    {
     "data": {
      "image/png": "[encoded data removed]",
      "text/plain": [
       "<Figure size 432x288 with 1 Axes>"
      ]
     },
     "metadata": {
      "needs_background": "light"
     },
     "output_type": "display_data"
    },
    {
     "data": {
      "image/png": "[encoded data removed]",
      "text/plain": [
       "<Figure size 432x288 with 1 Axes>"
      ]
     },
     "metadata": {
      "needs_background": "light"
     },
     "output_type": "display_data"
    }
   ],
   "source": [
    "np_images, np_masked_images, np_mask = sess.run([images, masked_images, mask])\n",
    "\n",
    "original = np_images[0, :, :, :3]\n",
    "occluded = np_masked_images[0, :, :, :3].astype(int)\n",
    "\n",
    "combined = np.hstack([original, occluded])\n",
    "plt.imshow(combined)\n",
    "plt.show()\n",
    "plt.imshow(np_mask[0])\n",
    "plt.show()"
   ]
  },
  {
   "cell_type": "code",
   "execution_count": null,
   "metadata": {},
   "outputs": [],
   "source": []
  }
 ],
 "metadata": {
  "kernelspec": {
   "display_name": "occnet",
   "language": "python",
   "name": "occnet"
  },
  "language_info": {
   "codemirror_mode": {
    "name": "ipython",
    "version": 3
   },
   "file_extension": ".py",
   "mimetype": "text/x-python",
   "name": "python",
   "nbconvert_exporter": "python",
   "pygments_lexer": "ipython3",
   "version": "3.7.2"
  }
 },
 "nbformat": 4,
 "nbformat_minor": 2
}
