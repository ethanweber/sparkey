{
 "cells": [
  {
   "cell_type": "code",
   "execution_count": 1,
   "metadata": {},
   "outputs": [],
   "source": [
    "%load_ext autoreload\n",
    "%autoreload 2\n",
    "\n",
    "import pickle\n",
    "import numpy as np\n",
    "import tensorflow as tf\n",
    "import matplotlib.pyplot as plt\n",
    "%matplotlib inline\n",
    "\n",
    "import sys\n",
    "sys.path.append(\"../\")\n",
    "from data.occnet_data_loader import OccnetTfrecordLoader\n",
    "from network.main import Transformer"
   ]
  },
  {
   "cell_type": "code",
   "execution_count": 2,
   "metadata": {},
   "outputs": [],
   "source": [
    "import cv2\n",
    "import math"
   ]
  },
  {
   "cell_type": "code",
   "execution_count": 3,
   "metadata": {},
   "outputs": [],
   "source": [
    "sess = tf.Session()"
   ]
  },
  {
   "cell_type": "code",
   "execution_count": 4,
   "metadata": {},
   "outputs": [],
   "source": [
    "vw, vh = 128, 128"
   ]
  },
  {
   "cell_type": "code",
   "execution_count": 56,
   "metadata": {},
   "outputs": [],
   "source": [
    "occnet_dataloader = OccnetTfrecordLoader(\"../datasets/000/\", occnet_data=True)\n",
    "occnet_transformer = Transformer(128, 128, \"../datasets/000/\", occnet=True)\n",
    "occnet_features = occnet_dataloader.get_features()\n",
    "# features = sess.run(features)"
   ]
  },
  {
   "cell_type": "code",
   "execution_count": 57,
   "metadata": {
    "scrolled": true
   },
   "outputs": [
    {
     "data": {
      "text/plain": [
       "TensorShape([Dimension(None), Dimension(307200)])"
      ]
     },
     "execution_count": 57,
     "metadata": {},
     "output_type": "execute_result"
    }
   ],
   "source": [
    "occnet_features[\"img0_depth\"].shape"
   ]
  },
  {
   "cell_type": "code",
   "execution_count": 83,
   "metadata": {},
   "outputs": [
    {
     "data": {
      "text/plain": [
       "TensorShape([Dimension(None), Dimension(480), Dimension(640)])"
      ]
     },
     "execution_count": 83,
     "metadata": {},
     "output_type": "execute_result"
    }
   ],
   "source": [
    "img0_depth_tensor.shape"
   ]
  },
  {
   "cell_type": "code",
   "execution_count": 82,
   "metadata": {},
   "outputs": [
    {
     "data": {
      "text/plain": [
       "<tf.Tensor 'Reshape_110:0' shape=(1, 200) dtype=float32>"
      ]
     },
     "execution_count": 82,
     "metadata": {},
     "output_type": "execute_result"
    }
   ],
   "source": [
    "tf.reshape(scaled[:,:,:2], [scaled[:,:,:2].shape[0], -1])"
   ]
  },
  {
   "cell_type": "code",
   "execution_count": 94,
   "metadata": {},
   "outputs": [
    {
     "data": {
      "text/plain": [
       "<tf.Tensor 'Reshape_98:0' shape=(?, 480, 640) dtype=float32>"
      ]
     },
     "execution_count": 94,
     "metadata": {},
     "output_type": "execute_result"
    }
   ],
   "source": [
    "img0_depth_tensor"
   ]
  },
  {
   "cell_type": "code",
   "execution_count": 106,
   "metadata": {},
   "outputs": [
    {
     "data": {
      "text/plain": [
       "<tf.Tensor 'strided_slice_771:0' shape=(1, 100, 2) dtype=float32>"
      ]
     },
     "execution_count": 106,
     "metadata": {},
     "output_type": "execute_result"
    }
   ],
   "source": [
    "scaled[:,:,:2]"
   ]
  },
  {
   "cell_type": "code",
   "execution_count": 144,
   "metadata": {},
   "outputs": [
    {
     "data": {
      "text/plain": [
       "<tf.Tensor 'GatherNd_27:0' shape=(1, 100, 307200) dtype=float32>"
      ]
     },
     "execution_count": 144,
     "metadata": {},
     "output_type": "execute_result"
    }
   ],
   "source": [
    "values_at_indices"
   ]
  },
  {
   "cell_type": "code",
   "execution_count": 261,
   "metadata": {},
   "outputs": [],
   "source": [
    "xyz = occnet_transformer.scale_normalized_coords_to_image_coords(uvz_tensor)\n",
    "\n",
    "x = tf.math.floor(xyz[:, :, 0])\n",
    "y = tf.math.floor(xyz[:, :, 1])\n",
    "z = xyz[:, :, 2]\n",
    "\n",
    "z_index = tf.dtypes.cast(\n",
    "    tf.clip_by_value(x + y*640, 0.0, 307200-1), \n",
    "    tf.int32\n",
    ")\n",
    "\n",
    "gt_z_values = []\n",
    "for i in range(z.shape[0]):\n",
    "    gt_z_values.append(\n",
    "        tf.gather(\n",
    "            occnet_features[\"img0_depth\"][i] / 1000.0,\n",
    "            z_index[i]\n",
    "        )\n",
    "    )\n",
    "    \n",
    "gt_z_values = tf.stack(gt_z_values)\n",
    "\n",
    "error = tf.losses.mean_squared_error(z, gt_z_values)"
   ]
  },
  {
   "cell_type": "code",
   "execution_count": 262,
   "metadata": {},
   "outputs": [],
   "source": [
    "error_np, z_np, gt_z_values_np = sess.run([error, z, gt_z_values])"
   ]
  },
  {
   "cell_type": "code",
   "execution_count": 252,
   "metadata": {},
   "outputs": [
    {
     "data": {
      "text/plain": [
       "array([[0.19200003, 0.20210105, 0.21220204, 0.22230306, 0.23240408,\n",
       "        0.24250507, 0.2526061 , 0.2627071 , 0.2728081 , 0.28290913,\n",
       "        0.29301015, 0.30311114, 0.31321216, 0.32331318, 0.33341417,\n",
       "        0.3435152 , 0.3536162 , 0.3637172 , 0.37381822, 0.3839192 ,\n",
       "        0.39402023, 0.40412125, 0.41422224, 0.42432326, 0.43442428,\n",
       "        0.4445253 , 0.4546263 , 0.46472728, 0.4748283 , 0.48492932,\n",
       "        0.49503034, 0.50513136, 0.5152323 , 0.52533334, 0.53543437,\n",
       "        0.5455354 , 0.5556364 , 0.5657374 , 0.57583845, 0.5859394 ,\n",
       "        0.5960404 , 0.60614145, 0.61624247, 0.6263435 , 0.63644445,\n",
       "        0.64654547, 0.6566465 , 0.6667475 , 0.67684853, 0.68694955,\n",
       "        0.6970505 , 0.70715153, 0.71725255, 0.7273536 , 0.7374546 ,\n",
       "        0.7475556 , 0.7576566 , 0.7677576 , 0.7778586 , 0.78795964,\n",
       "        0.79806066, 0.8081616 , 0.81826264, 0.82836366, 0.8384647 ,\n",
       "        0.8485657 , 0.8586667 , 0.86876774, 0.8788687 , 0.8889697 ,\n",
       "        0.89907074, 0.90917176, 0.9192728 , 0.92937374, 0.93947476,\n",
       "        0.9495758 , 0.9596768 , 0.9697778 , 0.9798788 , 0.98997986,\n",
       "        1.0000808 , 1.0101819 , 1.0202829 , 1.0303838 , 1.0404849 ,\n",
       "        1.0505859 , 1.0606868 , 1.0707879 , 1.080889  , 1.09099   ,\n",
       "        1.1010909 , 1.111192  , 1.121293  , 1.1313939 , 1.141495  ,\n",
       "        1.151596  , 1.161697  , 1.171798  , 1.1818991 , 1.192     ]],\n",
       "      dtype=float32)"
      ]
     },
     "execution_count": 252,
     "metadata": {},
     "output_type": "execute_result"
    }
   ],
   "source": [
    "z_np"
   ]
  },
  {
   "cell_type": "code",
   "execution_count": 239,
   "metadata": {},
   "outputs": [
    {
     "data": {
      "text/plain": [
       "array([[0.66300005, 0.66300005, 0.66300005, 0.66300005, 0.66300005,\n",
       "        0.66300005, 0.66300005, 0.66300005, 0.66300005, 0.66300005,\n",
       "        0.66300005, 0.66300005, 0.66300005, 0.66300005, 0.66300005,\n",
       "        0.66300005, 0.66300005, 0.66300005, 0.66300005, 0.66300005,\n",
       "        0.66300005, 0.66300005, 0.66300005, 0.66300005, 0.66300005,\n",
       "        0.66300005, 0.66300005, 0.66300005, 0.66300005, 0.66300005,\n",
       "        0.66300005, 0.66300005, 0.66300005, 0.66300005, 0.66300005,\n",
       "        0.66300005, 0.66300005, 0.66300005, 0.66300005, 0.66300005,\n",
       "        0.66300005, 0.66300005, 0.66300005, 0.66300005, 0.66300005,\n",
       "        0.66300005, 0.66300005, 0.66300005, 0.66300005, 0.66300005,\n",
       "        0.66300005, 0.66300005, 0.66300005, 0.66300005, 0.66300005,\n",
       "        0.66300005, 0.66300005, 0.66300005, 0.66300005, 0.66300005,\n",
       "        0.66300005, 0.66300005, 0.66300005, 0.66300005, 0.66300005,\n",
       "        0.66300005, 0.66300005, 0.66300005, 0.66300005, 0.66300005,\n",
       "        0.66300005, 0.66300005, 0.66300005, 0.66300005, 0.66300005,\n",
       "        0.66300005, 0.66300005, 0.66300005, 0.66300005, 0.66300005,\n",
       "        0.66300005, 0.66300005, 0.66300005, 0.66300005, 0.66300005,\n",
       "        0.66300005, 0.66300005, 0.66300005, 0.66300005, 0.66300005,\n",
       "        0.66300005, 0.66300005, 0.66300005, 0.66300005, 0.66300005,\n",
       "        0.66300005, 0.66300005, 0.66300005, 0.66300005, 0.66300005]],\n",
       "      dtype=float32)"
      ]
     },
     "execution_count": 239,
     "metadata": {},
     "output_type": "execute_result"
    }
   ],
   "source": [
    "sess.run(gt_z_values)"
   ]
  },
  {
   "cell_type": "code",
   "execution_count": 260,
   "metadata": {
    "scrolled": false
   },
   "outputs": [
    {
     "name": "stderr",
     "output_type": "stream",
     "text": [
      "Clipping input data to the valid range for imshow with RGB data ([0..1] for floats or [0..255] for integers).\n"
     ]
    },
    {
     "data": {
      "image/png": "[encoded data removed]",
      "text/plain": [
       "<Figure size 432x288 with 1 Axes>"
      ]
     },
     "metadata": {
      "needs_background": "light"
     },
     "output_type": "display_data"
    },
    {
     "name": "stderr",
     "output_type": "stream",
     "text": [
      "Clipping input data to the valid range for imshow with RGB data ([0..1] for floats or [0..255] for integers).\n"
     ]
    },
    {
     "data": {
      "image/png": "[encoded data removed]",
      "text/plain": [
       "<Figure size 432x288 with 1 Axes>"
      ]
     },
     "metadata": {
      "needs_background": "light"
     },
     "output_type": "display_data"
    }
   ],
   "source": [
    "def func1(x):\n",
    "    return tf.transpose(tf.reshape(occnet_features[x], [-1, 4, 4]), [0, 2, 1])\n",
    "\n",
    "mv = [func1(\"mv%d\" % i) for i in range(2)]\n",
    "mvi = [func1(\"mvi%d\" % i) for i in range(2)]\n",
    "img0_depth_tensor = tf.reshape(occnet_features[\"img0_depth\"], [-1, 480, 640])\n",
    "\n",
    "u, v = 0.0, 0.0\n",
    "points = []\n",
    "for z in np.linspace(-0.5, 0.5, num=100):\n",
    "    z_value = (img0_depth_tensor[0, 240, 320] / 1000.0) + z\n",
    "    points.append([u, v, z_value])\n",
    "\n",
    "# add back batch dimension\n",
    "uvz_tensor = tf.expand_dims(tf.convert_to_tensor(points), axis=0)\n",
    "\n",
    "world_coords = tf.matmul(occnet_transformer.unproject(uvz_tensor), mvi[0])\n",
    "uvz_proj = occnet_transformer.project(tf.matmul(world_coords, mv[1 - 0]))\n",
    "\n",
    "uvz, uvz_proj, img0, img1, img0_depth = sess.run(\n",
    "    [\n",
    "        uvz_tensor,\n",
    "        uvz_proj,\n",
    "        occnet_features[\"img0\"][0, :, :, :3],\n",
    "        occnet_features[\"img1\"][0, :, :, :3],\n",
    "        img0_depth_tensor\n",
    "    ]\n",
    ")\n",
    "\n",
    "# draw on the image\n",
    "x = int((u + 1.0) * 64.0)\n",
    "y = int((v + 1.0) * 64.0)\n",
    "new_img0 = cv2.circle(img0.copy(), (x, y), 3, (0, 255, 0), -1)\n",
    "plt.imshow(new_img0)\n",
    "plt.show()\n",
    "\n",
    "new_img1 = img1.copy()\n",
    "for index, point in enumerate(uvz_proj[0]):\n",
    "#     print(index)\n",
    "#     print(point)\n",
    "    try:\n",
    "        u, v, z = point\n",
    "        \n",
    "#         x = int((u + 1.0) * 64.0)\n",
    "#         y = 128 - int((v + 1.0) * 64.0)\n",
    "        \n",
    "        x = (min(max(u, -1), 1) * vw / 2 + vw / 2) - 0.5\n",
    "        y = vh - 0.5 - (min(max(v, -1), 1) * vh / 2 + vh / 2)\n",
    "        if math.isnan(x) or math.isnan(y):\n",
    "            pass\n",
    "\n",
    "        x = int(round(x))\n",
    "        y = int(round(y))\n",
    "\n",
    "        new_img1 = cv2.circle(new_img1, (x, y), 3, (0, 255, 0), -1)\n",
    "    except:\n",
    "        pass\n",
    "\n",
    "plt.imshow(new_img1)\n",
    "plt.show()\n",
    "\n",
    "# plt.imshow(img0_depth[0])\n",
    "# plt.show()\n"
   ]
  },
  {
   "cell_type": "code",
   "execution_count": 14,
   "metadata": {},
   "outputs": [],
   "source": [
    "keypointnet_dataloader = OccnetTfrecordLoader(\"../../data/cars_with_keypoints/\", occnet_data=False)\n",
    "keypointnet_transformer = Transformer(128, 128, \"../../data/cars_with_keypoints/\", occnet=False)\n",
    "keypointnet_features = keypointnet_dataloader.get_features()\n",
    "# keypointnet_features = sess.run(keypointnet_features)"
   ]
  },
  {
   "cell_type": "code",
   "execution_count": 8,
   "metadata": {},
   "outputs": [
    {
     "name": "stderr",
     "output_type": "stream",
     "text": [
      "Clipping input data to the valid range for imshow with RGB data ([0..1] for floats or [0..255] for integers).\n"
     ]
    },
    {
     "data": {
      "image/png": "[encoded data removed]",
      "text/plain": [
       "<Figure size 432x288 with 1 Axes>"
      ]
     },
     "metadata": {
      "needs_background": "light"
     },
     "output_type": "display_data"
    },
    {
     "name": "stderr",
     "output_type": "stream",
     "text": [
      "Clipping input data to the valid range for imshow with RGB data ([0..1] for floats or [0..255] for integers).\n"
     ]
    },
    {
     "data": {
      "image/png": "[encoded data removed]",
      "text/plain": [
       "<Figure size 432x288 with 1 Axes>"
      ]
     },
     "metadata": {
      "needs_background": "light"
     },
     "output_type": "display_data"
    }
   ],
   "source": [
    "def func1(x):\n",
    "    return tf.transpose(tf.reshape(keypointnet_features[x], [-1, 4, 4]), [0, 2, 1])\n",
    "\n",
    "mv = [func1(\"mv%d\" % i) for i in range(2)]\n",
    "mvi = [func1(\"mvi%d\" % i) for i in range(2)]\n",
    "\n",
    "u, v = 0.0, 0.0\n",
    "points = []\n",
    "for z in np.linspace(-50.0, 0.0, num=200):\n",
    "    points.append([u, v, z])\n",
    "    \n",
    "uvz = tf.constant([points])\n",
    "\n",
    "world_coords = tf.matmul(keypointnet_transformer.unproject(uvz), mvi[0])\n",
    "uvz_proj = keypointnet_transformer.project(tf.matmul(world_coords, mv[1 - 0]))\n",
    "\n",
    "uvz, uvz_proj, img0, img1 = sess.run(\n",
    "    [\n",
    "        uvz,\n",
    "        uvz_proj,\n",
    "        keypointnet_features[\"img0\"][0, :, :, :3],\n",
    "        keypointnet_features[\"img1\"][0, :, :, :3]\n",
    "    ]\n",
    ")\n",
    "\n",
    "# draw on the image\n",
    "x = int((u + 1.0) * 64.0)\n",
    "y = int((v + 1.0) * 64.0)\n",
    "new_img0 = cv2.circle(img0.copy(), (x, y), 3, (0, 255, 0), -1)\n",
    "plt.imshow(new_img0)\n",
    "plt.show()\n",
    "\n",
    "new_img1 = img1.copy()\n",
    "for index, point in enumerate(uvz_proj[0]):\n",
    "#     print(index)\n",
    "#     print(point)\n",
    "\n",
    "    u, v, z = point\n",
    "    # ---\n",
    "#     x = int((u + 1.0) * 64.0)\n",
    "#     y = 128 - int((v + 1.0) * 64.0)\n",
    "    # OR\n",
    "    x = (min(max(u, -1), 1) * vw / 2 + vw / 2) - 0.5\n",
    "    y = vh - 0.5 - (min(max(v, -1), 1) * vh / 2 + vh / 2)\n",
    "    x = int(round(x))\n",
    "    y = int(round(y))\n",
    "    \n",
    "    new_img1 = cv2.circle(new_img1, (x, y), 3, (0, 255, 0), -1)\n",
    "\n",
    "plt.imshow(new_img1)\n",
    "plt.show()\n"
   ]
  },
  {
   "cell_type": "code",
   "execution_count": null,
   "metadata": {},
   "outputs": [],
   "source": []
  }
 ],
 "metadata": {
  "kernelspec": {
   "display_name": "occnet",
   "language": "python",
   "name": "occnet"
  },
  "language_info": {
   "codemirror_mode": {
    "name": "ipython",
    "version": 3
   },
   "file_extension": ".py",
   "mimetype": "text/x-python",
   "name": "python",
   "nbconvert_exporter": "python",
   "pygments_lexer": "ipython3",
   "version": "3.7.2"
  }
 },
 "nbformat": 4,
 "nbformat_minor": 2
}
