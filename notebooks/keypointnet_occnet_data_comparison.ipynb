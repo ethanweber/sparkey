{
 "cells": [
  {
   "cell_type": "code",
   "execution_count": 1,
   "metadata": {},
   "outputs": [],
   "source": [
    "%load_ext autoreload\n",
    "%autoreload 2\n",
    "\n",
    "import pickle\n",
    "import numpy as np\n",
    "import tensorflow as tf\n",
    "import matplotlib.pyplot as plt\n",
    "%matplotlib inline\n",
    "\n",
    "import sys\n",
    "sys.path.append(\"../\")\n",
    "from data.occnet_data_loader import OccnetTfrecordLoader\n",
    "from network.main import Transformer"
   ]
  },
  {
   "cell_type": "code",
   "execution_count": 2,
   "metadata": {},
   "outputs": [],
   "source": [
    "import cv2\n",
    "import math"
   ]
  },
  {
   "cell_type": "code",
   "execution_count": 3,
   "metadata": {},
   "outputs": [],
   "source": [
    "sess = tf.Session()"
   ]
  },
  {
   "cell_type": "code",
   "execution_count": 4,
   "metadata": {},
   "outputs": [],
   "source": [
    "vw, vh = 128, 128"
   ]
  },
  {
   "cell_type": "code",
   "execution_count": 5,
   "metadata": {},
   "outputs": [
    {
     "name": "stdout",
     "output_type": "stream",
     "text": [
      "WARNING:tensorflow:From ../data/occnet_data_loader.py:68: to_float (from tensorflow.python.ops.math_ops) is deprecated and will be removed in a future version.\n",
      "Instructions for updating:\n",
      "Use tf.cast instead.\n",
      "WARNING:tensorflow:From ../data/occnet_data_loader.py:68: div (from tensorflow.python.ops.math_ops) is deprecated and will be removed in a future version.\n",
      "Instructions for updating:\n",
      "Deprecated in favor of operator or tf.math.divide.\n"
     ]
    }
   ],
   "source": [
    "occnet_dataloader = OccnetTfrecordLoader(\"../datasets/999/\", occnet_data=True)\n",
    "occnet_transformer = Transformer(128, 128, \"../datasets/999/\", occnet=True)\n",
    "occnet_features = occnet_dataloader.get_features()\n",
    "# features = sess.run(features)"
   ]
  },
  {
   "cell_type": "code",
   "execution_count": 6,
   "metadata": {
    "scrolled": false
   },
   "outputs": [
    {
     "name": "stderr",
     "output_type": "stream",
     "text": [
      "Clipping input data to the valid range for imshow with RGB data ([0..1] for floats or [0..255] for integers).\n"
     ]
    },
    {
     "data": {
      "image/png": "[encoded data removed]",
      "text/plain": [
       "<Figure size 432x288 with 1 Axes>"
      ]
     },
     "metadata": {
      "needs_background": "light"
     },
     "output_type": "display_data"
    },
    {
     "name": "stderr",
     "output_type": "stream",
     "text": [
      "Clipping input data to the valid range for imshow with RGB data ([0..1] for floats or [0..255] for integers).\n"
     ]
    },
    {
     "data": {
      "image/png": "[encoded data removed]",
      "text/plain": [
       "<Figure size 432x288 with 1 Axes>"
      ]
     },
     "metadata": {
      "needs_background": "light"
     },
     "output_type": "display_data"
    }
   ],
   "source": [
    "def func1(x):\n",
    "    return tf.transpose(tf.reshape(occnet_features[x], [-1, 4, 4]), [0, 2, 1])\n",
    "\n",
    "mv = [func1(\"mv%d\" % i) for i in range(2)]\n",
    "mvi = [func1(\"mvi%d\" % i) for i in range(2)]\n",
    "img0_depth = tf.reshape(occnet_features[\"img0_depth\"], [-1, 480, 640])\n",
    "\n",
    "u, v = 0.0, 0.0\n",
    "points = []\n",
    "for z in np.linspace(-0.5, 0.5, num=100):\n",
    "    z_value = (img0_depth[0, 240, 320] / 1000.0) + z\n",
    "    points.append([u, v, z_value])\n",
    "\n",
    "# add back batch dimension\n",
    "uvz = tf.expand_dims(tf.convert_to_tensor(points), axis=0)\n",
    "\n",
    "world_coords = tf.matmul(occnet_transformer.unproject(uvz), mvi[0])\n",
    "uvz_proj = occnet_transformer.project(tf.matmul(world_coords, mv[1 - 0]))\n",
    "\n",
    "uvz, uvz_proj, img0, img1, img0_depth = sess.run(\n",
    "    [\n",
    "        uvz,\n",
    "        uvz_proj,\n",
    "        occnet_features[\"img0\"][0, :, :, :3],\n",
    "        occnet_features[\"img1\"][0, :, :, :3],\n",
    "        img0_depth\n",
    "    ]\n",
    ")\n",
    "\n",
    "# draw on the image\n",
    "x = int((u + 1.0) * 64.0)\n",
    "y = int((v + 1.0) * 64.0)\n",
    "new_img0 = cv2.circle(img0.copy(), (x, y), 3, (0, 255, 0), -1)\n",
    "plt.imshow(new_img0)\n",
    "plt.show()\n",
    "\n",
    "new_img1 = img1.copy()\n",
    "for index, point in enumerate(uvz_proj[0]):\n",
    "#     print(index)\n",
    "#     print(point)\n",
    "    try:\n",
    "        u, v, z = point\n",
    "        \n",
    "#         x = int((u + 1.0) * 64.0)\n",
    "#         y = 128 - int((v + 1.0) * 64.0)\n",
    "        \n",
    "        x = (min(max(u, -1), 1) * vw / 2 + vw / 2) - 0.5\n",
    "        y = vh - 0.5 - (min(max(v, -1), 1) * vh / 2 + vh / 2)\n",
    "        if math.isnan(x) or math.isnan(y):\n",
    "            pass\n",
    "\n",
    "        x = int(round(x))\n",
    "        y = int(round(y))\n",
    "\n",
    "        new_img1 = cv2.circle(new_img1, (x, y), 3, (0, 255, 0), -1)\n",
    "    except:\n",
    "        pass\n",
    "\n",
    "plt.imshow(new_img1)\n",
    "plt.show()\n",
    "\n",
    "# plt.imshow(img0_depth[0])\n",
    "# plt.show()\n"
   ]
  },
  {
   "cell_type": "code",
   "execution_count": 7,
   "metadata": {},
   "outputs": [],
   "source": [
    "keypointnet_dataloader = OccnetTfrecordLoader(\"../../data/cars_with_keypoints/\", occnet_data=False)\n",
    "keypointnet_transformer = Transformer(128, 128, \"../../data/cars_with_keypoints/\", occnet=False)\n",
    "keypointnet_features = keypointnet_dataloader.get_features()\n",
    "# keypointnet_features = sess.run(keypointnet_features)"
   ]
  },
  {
   "cell_type": "code",
   "execution_count": 8,
   "metadata": {},
   "outputs": [
    {
     "name": "stderr",
     "output_type": "stream",
     "text": [
      "Clipping input data to the valid range for imshow with RGB data ([0..1] for floats or [0..255] for integers).\n"
     ]
    },
    {
     "data": {
      "image/png": "[encoded data removed]",
      "text/plain": [
       "<Figure size 432x288 with 1 Axes>"
      ]
     },
     "metadata": {
      "needs_background": "light"
     },
     "output_type": "display_data"
    },
    {
     "name": "stderr",
     "output_type": "stream",
     "text": [
      "Clipping input data to the valid range for imshow with RGB data ([0..1] for floats or [0..255] for integers).\n"
     ]
    },
    {
     "data": {
      "image/png": "[encoded data removed]",
      "text/plain": [
       "<Figure size 432x288 with 1 Axes>"
      ]
     },
     "metadata": {
      "needs_background": "light"
     },
     "output_type": "display_data"
    }
   ],
   "source": [
    "def func1(x):\n",
    "    return tf.transpose(tf.reshape(keypointnet_features[x], [-1, 4, 4]), [0, 2, 1])\n",
    "\n",
    "mv = [func1(\"mv%d\" % i) for i in range(2)]\n",
    "mvi = [func1(\"mvi%d\" % i) for i in range(2)]\n",
    "\n",
    "u, v = 0.0, 0.0\n",
    "points = []\n",
    "for z in np.linspace(-50.0, 0.0, num=200):\n",
    "    points.append([u, v, z])\n",
    "    \n",
    "uvz = tf.constant([points])\n",
    "\n",
    "world_coords = tf.matmul(keypointnet_transformer.unproject(uvz), mvi[0])\n",
    "uvz_proj = keypointnet_transformer.project(tf.matmul(world_coords, mv[1 - 0]))\n",
    "\n",
    "uvz, uvz_proj, img0, img1 = sess.run(\n",
    "    [\n",
    "        uvz,\n",
    "        uvz_proj,\n",
    "        keypointnet_features[\"img0\"][0, :, :, :3],\n",
    "        keypointnet_features[\"img1\"][0, :, :, :3]\n",
    "    ]\n",
    ")\n",
    "\n",
    "# draw on the image\n",
    "x = int((u + 1.0) * 64.0)\n",
    "y = int((v + 1.0) * 64.0)\n",
    "new_img0 = cv2.circle(img0.copy(), (x, y), 3, (0, 255, 0), -1)\n",
    "plt.imshow(new_img0)\n",
    "plt.show()\n",
    "\n",
    "new_img1 = img1.copy()\n",
    "for index, point in enumerate(uvz_proj[0]):\n",
    "#     print(index)\n",
    "#     print(point)\n",
    "\n",
    "    u, v, z = point\n",
    "    # ---\n",
    "#     x = int((u + 1.0) * 64.0)\n",
    "#     y = 128 - int((v + 1.0) * 64.0)\n",
    "    # OR\n",
    "    x = (min(max(u, -1), 1) * vw / 2 + vw / 2) - 0.5\n",
    "    y = vh - 0.5 - (min(max(v, -1), 1) * vh / 2 + vh / 2)\n",
    "    x = int(round(x))\n",
    "    y = int(round(y))\n",
    "    \n",
    "    new_img1 = cv2.circle(new_img1, (x, y), 3, (0, 255, 0), -1)\n",
    "\n",
    "plt.imshow(new_img1)\n",
    "plt.show()\n"
   ]
  },
  {
   "cell_type": "code",
   "execution_count": null,
   "metadata": {},
   "outputs": [],
   "source": []
  }
 ],
 "metadata": {
  "kernelspec": {
   "display_name": "occnet",
   "language": "python",
   "name": "occnet"
  },
  "language_info": {
   "codemirror_mode": {
    "name": "ipython",
    "version": 3
   },
   "file_extension": ".py",
   "mimetype": "text/x-python",
   "name": "python",
   "nbconvert_exporter": "python",
   "pygments_lexer": "ipython3",
   "version": "3.7.2"
  }
 },
 "nbformat": 4,
 "nbformat_minor": 2
}
