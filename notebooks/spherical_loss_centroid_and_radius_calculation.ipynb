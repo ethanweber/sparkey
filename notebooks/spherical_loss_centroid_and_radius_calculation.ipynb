{
 "cells": [
  {
   "cell_type": "markdown",
   "metadata": {},
   "source": [
    "# find the centroid and radius for a given sequence"
   ]
  },
  {
   "cell_type": "code",
   "execution_count": 14,
   "metadata": {},
   "outputs": [
    {
     "name": "stdout",
     "output_type": "stream",
     "text": [
      "The autoreload extension is already loaded. To reload it, use:\n",
      "  %reload_ext autoreload\n"
     ]
    }
   ],
   "source": [
    "%load_ext autoreload\n",
    "%autoreload 2\n",
    "\n",
    "import pickle\n",
    "import numpy as np\n",
    "import tensorflow as tf\n",
    "import matplotlib.pyplot as plt\n",
    "%matplotlib inline\n",
    "\n",
    "import sys\n",
    "sys.path.append(\"../\")"
   ]
  },
  {
   "cell_type": "code",
   "execution_count": 16,
   "metadata": {},
   "outputs": [],
   "source": [
    "cols = plt.cm.get_cmap(\"rainbow\")(\n",
    "      np.linspace(0, 1.0, 10))[:, :4]"
   ]
  },
  {
   "cell_type": "code",
   "execution_count": 18,
   "metadata": {},
   "outputs": [],
   "source": [
    "def rgb(minimum, maximum, value):\n",
    "    minimum, maximum = float(minimum), float(maximum)\n",
    "    ratio = 2 * (value-minimum) / (maximum - minimum)\n",
    "    b = int(max(0, 255*(1 - ratio)))\n",
    "    r = int(max(0, 255*(ratio - 1)))\n",
    "    g = 255 - b - r\n",
    "    return r, g, b"
   ]
  },
  {
   "cell_type": "code",
   "execution_count": 21,
   "metadata": {},
   "outputs": [],
   "source": [
    "values = np.linspace(0, 1.0, 10)"
   ]
  },
  {
   "cell_type": "code",
   "execution_count": 23,
   "metadata": {},
   "outputs": [
    {
     "name": "stdout",
     "output_type": "stream",
     "text": [
      "(0, 0, 255)\n",
      "(0, 57, 198)\n",
      "(0, 114, 141)\n",
      "(0, 170, 85)\n",
      "(0, 227, 28)\n",
      "(28, 227, 0)\n",
      "(84, 171, 0)\n",
      "(141, 114, 0)\n",
      "(198, 57, 0)\n",
      "(255, 0, 0)\n"
     ]
    }
   ],
   "source": [
    "for val in values:\n",
    "    print(rgb(0.0, 1.0, val))"
   ]
  },
  {
   "cell_type": "code",
   "execution_count": 2,
   "metadata": {},
   "outputs": [],
   "source": [
    "from data.don_data_loader import DonDataLoader\n",
    "import data.utils as occnet_utils"
   ]
  },
  {
   "cell_type": "code",
   "execution_count": 3,
   "metadata": {},
   "outputs": [],
   "source": [
    "dataloader = DonDataLoader()"
   ]
  },
  {
   "cell_type": "code",
   "execution_count": 5,
   "metadata": {},
   "outputs": [
    {
     "name": "stdout",
     "output_type": "stream",
     "text": [
      "scene: 2018-04-16-15-23-41\n",
      "frame_idx_a: 1899, frame_idx_b: 1568\n"
     ]
    },
    {
     "data": {
      "text/plain": [
       "(array([[533.6422696 ,   0.        , 319.40910308],\n",
       "        [  0.        , 534.78244452, 236.43742997],\n",
       "        [  0.        ,   0.        ,   1.        ]]),\n",
       " [<PIL.Image.Image image mode=RGB size=640x480 at 0x7F3A3B76EF28>,\n",
       "  <PIL.PngImagePlugin.PngImageFile image mode=I size=640x480 at 0x7F3A3B7D10B8>,\n",
       "  <PIL.PngImagePlugin.PngImageFile image mode=L size=640x480 at 0x7F3A3B783F28>,\n",
       "  array([[ 0.48630148,  0.08533026,  0.86961464,  0.17925081],\n",
       "         [ 0.5546506 , -0.7991581 , -0.23175213,  0.31838563],\n",
       "         [ 0.67518411,  0.59503368, -0.43596025,  0.6841579 ],\n",
       "         [ 0.        ,  0.        ,  0.        ,  1.        ]])],\n",
       " [<PIL.Image.Image image mode=RGB size=640x480 at 0x7F3A3B77FF60>,\n",
       "  <PIL.PngImagePlugin.PngImageFile image mode=I size=640x480 at 0x7F3A3B783940>,\n",
       "  <PIL.PngImagePlugin.PngImageFile image mode=L size=640x480 at 0x7F3A3B783518>,\n",
       "  array([[ 0.82332536,  0.40973646,  0.3927485 ,  0.48588609],\n",
       "         [ 0.5207084 , -0.26996621, -0.80992654,  0.52176226],\n",
       "         [-0.22582762,  0.87134051, -0.43562324,  0.44780409],\n",
       "         [ 0.        ,  0.        ,  0.        ,  1.        ]])])"
      ]
     },
     "execution_count": 5,
     "metadata": {},
     "output_type": "execute_result"
    }
   ],
   "source": [
    "dataloader.get_random_data_pair()"
   ]
  },
  {
   "cell_type": "code",
   "execution_count": 7,
   "metadata": {},
   "outputs": [
    {
     "data": {
      "text/plain": [
       "{'2018-04-16-15-23-41': {'centroid': 0.8455000000000001,\n",
       "  'radius': 0.38150000000000006}}"
      ]
     },
     "execution_count": 7,
     "metadata": {},
     "output_type": "execute_result"
    }
   ],
   "source": [
    "dataloader.centroid_and_radius"
   ]
  },
  {
   "cell_type": "code",
   "execution_count": 9,
   "metadata": {},
   "outputs": [],
   "source": [
    "scene_name = \"2018-04-16-15-23-41\""
   ]
  },
  {
   "cell_type": "code",
   "execution_count": 10,
   "metadata": {},
   "outputs": [],
   "source": [
    "all_frames = list(dataloader.dataset.get_pose_data(scene_name).keys())\n",
    "global_min_depth = float(\"inf\")\n",
    "global_max_depth = 0.0\n",
    "for frame in all_frames:\n",
    "    rgb_a, depth_a, mask_a, pose_a = dataloader.dataset.get_rgbd_mask_pose(scene_name, frame)\n",
    "    masked_depth = np.array(mask_a)*np.array(depth_a)\n",
    "    min_depth = masked_depth[masked_depth > 0].min() / 1000.0\n",
    "    max_depth = masked_depth[masked_depth > 0].max() / 1000.0\n",
    "    \n",
    "    global_min_depth = min(global_min_depth, min_depth)\n",
    "    global_max_depth = max(global_max_depth, max_depth)\n",
    "z_min = global_min_depth\n",
    "z_max = global_max_depth\n",
    "\n",
    "radius = (z_max - z_min) / 2.0\n",
    "centroid = radius + z_min"
   ]
  }
 ],
 "metadata": {
  "kernelspec": {
   "display_name": "occnet",
   "language": "python",
   "name": "occnet"
  },
  "language_info": {
   "codemirror_mode": {
    "name": "ipython",
    "version": 3
   },
   "file_extension": ".py",
   "mimetype": "text/x-python",
   "name": "python",
   "nbconvert_exporter": "python",
   "pygments_lexer": "ipython3",
   "version": "3.7.2"
  }
 },
 "nbformat": 4,
 "nbformat_minor": 2
}
